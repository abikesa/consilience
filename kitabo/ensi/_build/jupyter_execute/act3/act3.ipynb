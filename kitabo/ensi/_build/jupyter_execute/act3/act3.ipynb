{
 "cells": [
  {
   "cell_type": "markdown",
   "metadata": {},
   "source": [
    "(language)=\n",
    "# Open, Distributed\n",
    "\n",
    "*Unlike Islam, Christianity has never been a static religion.*      \n",
    "-- Heretic\n",
    "\n",
    "<iframe\n",
    "    src=\"https://www.youtube.com/embed/5JDrK7sP3gA\"\n",
    "    style=\"width:100%;height:700px;\"\n",
    ">\n",
    "</iframe>\n",
    "\n",
    "```{figure} ../figures/blanche.*\n",
    "---\n",
    "width: 1\n",
    "height: 1\n",
    "---\n",
    "_Open & Distributed vs. Closed & Central_. \n",
    "```"
   ]
  }
 ],
 "metadata": {
  "kernelspec": {
   "display_name": "myenv",
   "language": "python",
   "name": "python3"
  },
  "language_info": {
   "codemirror_mode": {
    "name": "ipython",
    "version": 3
   },
   "file_extension": ".py",
   "mimetype": "text/x-python",
   "name": "python",
   "nbconvert_exporter": "python",
   "pygments_lexer": "ipython3",
   "version": "3.12.4"
  },
  "widgets": {
   "application/vnd.jupyter.widget-state+json": {
    "state": {},
    "version_major": 2,
    "version_minor": 0
   }
  }
 },
 "nbformat": 4,
 "nbformat_minor": 4
}